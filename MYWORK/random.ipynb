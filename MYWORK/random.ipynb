{
 "cells": [
  {
   "cell_type": "markdown",
   "metadata": {},
   "source": [
    "# Random Numbers\n",
    "***\n"
   ]
  },
  {
   "cell_type": "markdown",
   "metadata": {},
   "source": [
    "## Prequisites\n",
    "\n",
    "***\n",
    "\n",
    "### Numpys random module\n",
    "https://numpy.org/doc/stable/reference/random/index.html"
   ]
  },
  {
   "cell_type": "code",
   "execution_count": 1,
   "metadata": {},
   "outputs": [],
   "source": [
    "# Numerical arrays and random numbers.\n",
    "\n",
    "import numpy as np\n",
    "\n",
    "# Plot\n",
    "\n",
    "import matplotlib.pyplot as plt"
   ]
  },
  {
   "cell_type": "markdown",
   "metadata": {},
   "source": [
    "## Generate Random Intergers\n",
    "\n",
    "***"
   ]
  },
  {
   "cell_type": "code",
   "execution_count": 2,
   "metadata": {},
   "outputs": [],
   "source": [
    "rng = np.random.default_rng()\n",
    "#"
   ]
  },
  {
   "cell_type": "code",
   "execution_count": 3,
   "metadata": {},
   "outputs": [
    {
     "data": {
      "text/plain": [
       "0.9724853548246587"
      ]
     },
     "execution_count": 3,
     "metadata": {},
     "output_type": "execute_result"
    }
   ],
   "source": [
    "# Generate one random float uniformly distributed over the range [0, 1)\n",
    "rng.random()  "
   ]
  },
  {
   "cell_type": "code",
   "execution_count": 4,
   "metadata": {},
   "outputs": [
    {
     "data": {
      "text/plain": [
       "array([-1.81632333,  1.4774575 ,  2.79862582,  0.45672258,  0.32622863,\n",
       "        0.12304995, -1.03944484, -1.04591155, -0.66069288,  0.02676651])"
      ]
     },
     "execution_count": 4,
     "metadata": {},
     "output_type": "execute_result"
    }
   ],
   "source": [
    "# Generate an array of 10 numbers according to a unit Gaussian distribution.\n",
    "rng.standard_normal(10) "
   ]
  },
  {
   "cell_type": "code",
   "execution_count": 5,
   "metadata": {},
   "outputs": [
    {
     "data": {
      "text/plain": [
       "array([9, 8, 4, 9, 4])"
      ]
     },
     "execution_count": 5,
     "metadata": {},
     "output_type": "execute_result"
    }
   ],
   "source": [
    "# Generate an array of 5 integers uniformly over the range [0, 10).\n",
    "rng.integers(low=0, high=10, size=5)   "
   ]
  },
  {
   "cell_type": "code",
   "execution_count": 6,
   "metadata": {},
   "outputs": [
    {
     "data": {
      "text/plain": [
       "array([ 4,  7,  4, ..., 10,  9,  5])"
      ]
     },
     "execution_count": 6,
     "metadata": {},
     "output_type": "execute_result"
    }
   ],
   "source": [
    "# Generate 10000 integers over the range [0, 10).\n",
    "x = rng.integers(low=1, high=10, size=10000, endpoint=True)  \n",
    "\n",
    "# Show x\n",
    "x"
   ]
  },
  {
   "cell_type": "code",
   "execution_count": 7,
   "metadata": {},
   "outputs": [
    {
     "data": {
      "text/plain": [
       "(array([ 1,  2,  3,  4,  5,  6,  7,  8,  9, 10]),\n",
       " array([ 986,  973, 1031,  990,  936,  997, 1046,  981, 1004, 1056]))"
      ]
     },
     "execution_count": 7,
     "metadata": {},
     "output_type": "execute_result"
    }
   ],
   "source": [
    "# Get the counts.\n",
    "\n",
    "values, counts = np.unique(x, return_counts=True)\n",
    "\n",
    "# Show.\n",
    "values, counts"
   ]
  },
  {
   "cell_type": "code",
   "execution_count": 8,
   "metadata": {},
   "outputs": [
    {
     "data": {
      "text/plain": [
       "<BarContainer object of 10 artists>"
      ]
     },
     "execution_count": 8,
     "metadata": {},
     "output_type": "execute_result"
    },
    {
     "data": {
      "image/png": "[encoded data removed]",
      "text/plain": [
       "<Figure size 640x480 with 1 Axes>"
      ]
     },
     "metadata": {},
     "output_type": "display_data"
    }
   ],
   "source": [
    "# Plot the bar chart.\n",
    "plt.bar(values, counts)"
   ]
  },
  {
   "cell_type": "markdown",
   "metadata": {},
   "source": [
    "## Uniform Distribution\n",
    "***"
   ]
  },
  {
   "cell_type": "code",
   "execution_count": 15,
   "metadata": {},
   "outputs": [
    {
     "data": {
      "text/plain": [
       "array([6.38580438, 3.41834893, 1.22054927, ..., 2.05879205, 7.24747716,\n",
       "       1.89704332])"
      ]
     },
     "execution_count": 15,
     "metadata": {},
     "output_type": "execute_result"
    }
   ],
   "source": [
    "# Generate 10000 floats uniformly distributed over the range (0, 10).\n",
    "x = rng.uniform(low=0.0, high=10.0, size=10000) \n",
    "\n",
    "# show\n",
    "x"
   ]
  },
  {
   "cell_type": "code",
   "execution_count": 10,
   "metadata": {},
   "outputs": [
    {
     "data": {
      "text/plain": [
       "(array([9.77966335e-04, 5.92099165e-03, 5.95543834e-03, ...,\n",
       "        9.99522287e+00, 9.99674216e+00, 9.99964938e+00]),\n",
       " array([1, 1, 1, ..., 1, 1, 1]),\n",
       " 10000,\n",
       " 10000)"
      ]
     },
     "execution_count": 10,
     "metadata": {},
     "output_type": "execute_result"
    }
   ],
   "source": [
    "# Get the counts.\n",
    "\n",
    "values, counts = np.unique(x, return_counts=True)\n",
    "\n",
    "# Show.\n",
    "values, counts, values.size, counts.size"
   ]
  },
  {
   "cell_type": "code",
   "execution_count": 18,
   "metadata": {},
   "outputs": [
    {
     "data": {
      "text/plain": [
       "array([3.07702537e+00, 5.57850377e-01, 6.51801020e+00, 9.85285477e+00,\n",
       "       3.68157317e+00, 5.45170178e+00, 3.23820281e+00, 1.23340405e+00,\n",
       "       1.96886492e-01, 1.16246451e+00, 5.21024626e+00, 7.76479400e+00,\n",
       "       7.10285578e-01, 1.48359262e+00, 6.44609228e-02, 9.55840841e-01,\n",
       "       8.43876455e+00, 2.42346398e+00, 9.69061638e+00, 3.99342489e+00,\n",
       "       8.92106766e+00, 7.04409693e+00, 8.22112244e+00, 2.47666890e+00,\n",
       "       3.14774314e+00, 5.85298863e+00, 6.77005665e-01, 4.08621115e+00,\n",
       "       9.95512178e+00, 8.09205303e+00, 3.77433887e-01, 8.06587905e+00,\n",
       "       4.21395859e+00, 1.93781276e+00, 2.93792051e+00, 4.78040531e+00,\n",
       "       6.85852813e+00, 3.75710309e+00, 5.37479630e+00, 6.30661448e+00,\n",
       "       3.60378075e+00, 1.81322247e+00, 4.11423782e+00, 8.69608172e+00,\n",
       "       9.47867865e+00, 6.30274136e+00, 5.20424564e+00, 4.15908285e-01,\n",
       "       5.17961270e+00, 7.81941446e+00, 4.62154255e+00, 3.00804282e-01,\n",
       "       6.58911585e+00, 1.16825397e+00, 4.09109001e+00, 1.15736790e-01,\n",
       "       3.52242932e+00, 8.66281948e+00, 7.77814710e+00, 7.75560117e+00,\n",
       "       1.86466391e+00, 1.84916160e+00, 2.01329098e+00, 3.41552958e+00,\n",
       "       3.24800814e+00, 9.86872126e+00, 1.19194348e+00, 9.74826643e+00,\n",
       "       6.26535710e+00, 8.66310713e+00, 4.81262963e+00, 2.60709192e+00,\n",
       "       2.75825398e+00, 5.71580270e-02, 7.23674820e-03, 5.41843408e+00,\n",
       "       1.85427102e-01, 7.44281542e+00, 4.63233543e+00, 8.70107587e+00,\n",
       "       8.08293153e+00, 2.44786025e+00, 1.72057639e+00, 2.55225814e+00,\n",
       "       8.17907461e+00, 9.53928714e+00, 2.24281837e+00, 3.13312484e+00,\n",
       "       9.26408652e+00, 5.83962691e+00, 8.45365581e+00, 6.52009575e+00,\n",
       "       5.25185595e+00, 3.59887894e+00, 1.20105969e+00, 3.63364774e+00,\n",
       "       5.72850781e+00, 3.73679840e+00, 4.86249897e+00, 7.36728271e+00])"
      ]
     },
     "execution_count": 18,
     "metadata": {},
     "output_type": "execute_result"
    }
   ],
   "source": [
    "# Generate 100 floats uniformly distributed over the range (0, 10).\n",
    "x = rng.uniform(low=0.0, high=10.0, size=100) \n",
    "\n",
    "# show\n",
    "x"
   ]
  },
  {
   "cell_type": "code",
   "execution_count": 19,
   "metadata": {},
   "outputs": [
    {
     "data": {
      "text/plain": [
       "(array([7.23674820e-03, 5.71580270e-02, 6.44609228e-02, 1.15736790e-01,\n",
       "        1.85427102e-01, 1.96886492e-01, 3.00804282e-01, 3.77433887e-01,\n",
       "        4.15908285e-01, 5.57850377e-01, 6.77005665e-01, 7.10285578e-01,\n",
       "        9.55840841e-01, 1.16246451e+00, 1.16825397e+00, 1.19194348e+00,\n",
       "        1.20105969e+00, 1.23340405e+00, 1.48359262e+00, 1.72057639e+00,\n",
       "        1.81322247e+00, 1.84916160e+00, 1.86466391e+00, 1.93781276e+00,\n",
       "        2.01329098e+00, 2.24281837e+00, 2.42346398e+00, 2.44786025e+00,\n",
       "        2.47666890e+00, 2.55225814e+00, 2.60709192e+00, 2.75825398e+00,\n",
       "        2.93792051e+00, 3.07702537e+00, 3.13312484e+00, 3.14774314e+00,\n",
       "        3.23820281e+00, 3.24800814e+00, 3.41552958e+00, 3.52242932e+00,\n",
       "        3.59887894e+00, 3.60378075e+00, 3.63364774e+00, 3.68157317e+00,\n",
       "        3.73679840e+00, 3.75710309e+00, 3.99342489e+00, 4.08621115e+00,\n",
       "        4.09109001e+00, 4.11423782e+00, 4.21395859e+00, 4.62154255e+00,\n",
       "        4.63233543e+00, 4.78040531e+00, 4.81262963e+00, 4.86249897e+00,\n",
       "        5.17961270e+00, 5.20424564e+00, 5.21024626e+00, 5.25185595e+00,\n",
       "        5.37479630e+00, 5.41843408e+00, 5.45170178e+00, 5.72850781e+00,\n",
       "        5.83962691e+00, 5.85298863e+00, 6.26535710e+00, 6.30274136e+00,\n",
       "        6.30661448e+00, 6.51801020e+00, 6.52009575e+00, 6.58911585e+00,\n",
       "        6.85852813e+00, 7.04409693e+00, 7.36728271e+00, 7.44281542e+00,\n",
       "        7.75560117e+00, 7.76479400e+00, 7.77814710e+00, 7.81941446e+00,\n",
       "        8.06587905e+00, 8.08293153e+00, 8.09205303e+00, 8.17907461e+00,\n",
       "        8.22112244e+00, 8.43876455e+00, 8.45365581e+00, 8.66281948e+00,\n",
       "        8.66310713e+00, 8.69608172e+00, 8.70107587e+00, 8.92106766e+00,\n",
       "        9.26408652e+00, 9.47867865e+00, 9.53928714e+00, 9.69061638e+00,\n",
       "        9.74826643e+00, 9.85285477e+00, 9.86872126e+00, 9.95512178e+00]),\n",
       " array([1, 1, 1, 1, 1, 1, 1, 1, 1, 1, 1, 1, 1, 1, 1, 1, 1, 1, 1, 1, 1, 1,\n",
       "        1, 1, 1, 1, 1, 1, 1, 1, 1, 1, 1, 1, 1, 1, 1, 1, 1, 1, 1, 1, 1, 1,\n",
       "        1, 1, 1, 1, 1, 1, 1, 1, 1, 1, 1, 1, 1, 1, 1, 1, 1, 1, 1, 1, 1, 1,\n",
       "        1, 1, 1, 1, 1, 1, 1, 1, 1, 1, 1, 1, 1, 1, 1, 1, 1, 1, 1, 1, 1, 1,\n",
       "        1, 1, 1, 1, 1, 1, 1, 1, 1, 1, 1, 1]),\n",
       " 100,\n",
       " 100)"
      ]
     },
     "execution_count": 19,
     "metadata": {},
     "output_type": "execute_result"
    }
   ],
   "source": [
    "# Get the counts.\n",
    "\n",
    "values, counts = np.unique(x, return_counts=True)\n",
    "\n",
    "# Show.\n",
    "values, counts, values.size, counts.size"
   ]
  },
  {
   "cell_type": "code",
   "execution_count": 20,
   "metadata": {},
   "outputs": [
    {
     "data": {
      "text/plain": [
       "<BarContainer object of 100 artists>"
      ]
     },
     "execution_count": 20,
     "metadata": {},
     "output_type": "execute_result"
    },
    {
     "data": {
      "image/png": "[encoded data removed]",
      "text/plain": [
       "<Figure size 640x480 with 1 Axes>"
      ]
     },
     "metadata": {},
     "output_type": "display_data"
    }
   ],
   "source": [
    "# Plot the bar chart.\n",
    "plt.bar(values, counts, edgecolor='black')"
   ]
  },
  {
   "cell_type": "code",
   "execution_count": 13,
   "metadata": {},
   "outputs": [
    {
     "data": {
      "text/plain": [
       "(array([ 0.,  1.,  2.,  3.,  4.,  5.,  6.,  7.,  8.,  9., 10.]),\n",
       " array([ 471,  956,  953, 1058,  966,  938, 1068, 1057, 1022,  998,  513]),\n",
       " 11,\n",
       " 11)"
      ]
     },
     "execution_count": 13,
     "metadata": {},
     "output_type": "execute_result"
    }
   ],
   "source": [
    "# Round value in x.\n",
    "x_rounded = np.round(x, decimals=0)\n",
    "\n",
    "# Get the counts.\n",
    "\n",
    "values, counts = np.unique(x_rounded, return_counts=True)\n",
    "\n",
    "# Show.\n",
    "values, counts, values.size, counts.size"
   ]
  },
  {
   "cell_type": "code",
   "execution_count": 14,
   "metadata": {},
   "outputs": [
    {
     "data": {
      "text/plain": [
       "<BarContainer object of 11 artists>"
      ]
     },
     "execution_count": 14,
     "metadata": {},
     "output_type": "execute_result"
    },
    {
     "data": {
      "image/png": "[encoded data removed]",
      "text/plain": [
       "<Figure size 640x480 with 1 Axes>"
      ]
     },
     "metadata": {},
     "output_type": "display_data"
    }
   ],
   "source": [
    "# Plot the bar chart.\n",
    "plt.bar(values, counts, edgecolor='black')"
   ]
  },
  {
   "cell_type": "markdown",
   "metadata": {},
   "source": [
    "***\n",
    "\n",
    "#### End"
   ]
  }
 ],
 "metadata": {
  "kernelspec": {
   "display_name": "base",
   "language": "python",
   "name": "python3"
  },
  "language_info": {
   "codemirror_mode": {
    "name": "ipython",
    "version": 3
   },
   "file_extension": ".py",
   "mimetype": "text/x-python",
   "name": "python",
   "nbconvert_exporter": "python",
   "pygments_lexer": "ipython3",
   "version": "3.11.5"
  }
 },
 "nbformat": 4,
 "nbformat_minor": 2
}
