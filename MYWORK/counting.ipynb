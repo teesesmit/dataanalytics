{
 "cells": [
  {
   "cell_type": "markdown",
   "metadata": {},
   "source": [
    "# Counting\n",
    "***"
   ]
  },
  {
   "cell_type": "markdown",
   "metadata": {},
   "source": [
    "### BINARY\n",
    "***\n",
    "\n",
    "[0,1]\n",
    "\n",
    "1011\n",
    "\n",
    "(1 * 2^3) + (0 * 2^2) + (1 * 2^1) + (1 * 2^0)\n",
    "\n",
    "    8     +     0     +     2     +     1\n"
   ]
  },
  {
   "cell_type": "markdown",
   "metadata": {},
   "source": [
    "### Decimal\n",
    "***\n",
    "\n",
    "123\n",
    "\n"
   ]
  }
 ],
 "metadata": {
  "language_info": {
   "name": "python"
  }
 },
 "nbformat": 4,
 "nbformat_minor": 2
}
